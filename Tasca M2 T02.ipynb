{
 "cells": [
  {
   "cell_type": "code",
   "execution_count": null,
   "id": "679a87bd",
   "metadata": {},
   "outputs": [],
   "source": [
    "#Ejercicio 1\n",
    "#Definimos la función y añadimos la condicionales para que nos dé un valor en función de la nota que pongamos \n",
    "#If=si, Else=sino y Elif= si es.\n",
    "def clasificar_nota(nota):\n",
    "    if nota < 5:\n",
    "        return \"Suspenso\"\n",
    "    elif 5 <= nota < 7:\n",
    "        return \"Aprobado\"\n",
    "    elif 7 <= nota < 9:\n",
    "        return \"Notable\"\n",
    "    elif nota >= 9:\n",
    "        return \"Excelente\"\n",
    "    else:\n",
    "        return \"Nota no válida\"\n",
    "\n",
    "#Ponemos un nota random para probar la función.\n",
    "nota_ejemplo = 5.1\n",
    "clasificacion = clasificar_nota(nota_ejemplo)\n",
    "print(f\"La nota {nota_ejemplo} es {clasificacion}\")\n"
   ]
  },
  {
   "cell_type": "code",
   "execution_count": null,
   "id": "bda15a63",
   "metadata": {},
   "outputs": [],
   "source": [
    "#Ejercicio 2\n",
    "\n",
    "def comparacion_numeros(num1, num2):\n",
    "    # Comparamos los números usando los condicionales anteriormente comentados.\n",
    "    if num1 > num2:\n",
    "        print(f\"{num1} es más grande que {num2}\")\n",
    "    elif num1 < num2:\n",
    "        print(f\"{num2} es más grande que {num1}\")\n",
    "    else:\n",
    "        print(\"Los dos números son iguales\")\n",
    "\n",
    "# Introducimos 2 números\n",
    "num1 = float(input(\"Introduce el primer número: \"))\n",
    "num2 = float(input(\"Introduce el segundo número: \"))\n",
    "\n",
    "# Ejecutamos la función\n",
    "comparacion_numeros(num1, num2)\n",
    "\n"
   ]
  },
  {
   "cell_type": "code",
   "execution_count": null,
   "id": "b6794522",
   "metadata": {},
   "outputs": [],
   "source": [
    "#Ejercicio 3\n",
    "def muestra_nombre_repetido():\n",
    "    \n",
    "    # Almacenamos nombre del usuario en la función input\n",
    "    nombre = input(\"Introduce el nombre: \")\n",
    "\n",
    "    # Hacemos lo mismo en este casonúmero del usuario\n",
    "    numero = int(input(\"Introduce el número: \"))\n",
    "\n",
    "    # Usamos los condicionales If y else. Comprobamos si el número es igual a 0 y sino que multiplique nombre*numero\n",
    "    if numero == 0:\n",
    "        print(\"Error: El número no puede ser 0.\")\n",
    "    else:\n",
    "        # Con esta función mostramos el nombre tantas vecees como indique el número\n",
    "        resultado = nombre * numero\n",
    "        print(f\"Resultado: {resultado}\")\n",
    "\n",
    "# Ejecutamos el código\n",
    "muestra_nombre_repetido()\n"
   ]
  },
  {
   "cell_type": "code",
   "execution_count": null,
   "id": "4f465d5b",
   "metadata": {},
   "outputs": [],
   "source": [
    "#Ejercicio 4\n",
    "def es_simetrica(lista):\n",
    "    # Usamos condicionales para comprobar si la lista es simetrica. Comparamos la lista original\n",
    "    # con la version invertida.\n",
    "    if lista == lista[::-1]:\n",
    "        # Si la lista es igual a su inversa, entonces es simétrica.\n",
    "        longitud = len(lista)\n",
    "        return True, longitud\n",
    "    else:\n",
    "        #Si la lista no es igual a su inversa, entonces no es simétrica y la longitud es 0.\n",
    "        return False, 0\n",
    "\n",
    "# Ejemplo de función\n",
    "ejemplo_lista_1 = [1, 2, 3, 4, 3, 2, 1]\n",
    "ejemplo_lista_2 = [1, 2, 3, 4, 5]\n",
    "\n",
    "simetrica_1, longitud_1 = es_simetrica(ejemplo_lista_1)\n",
    "simetrica_2, longitud_2 = es_simetrica(ejemplo_lista_2)\n",
    "\n",
    "if simetrica_1:\n",
    "    print(f\"La lista es simetrica y tiene {longitud_1} elementos.\")\n",
    "else:\n",
    "    print(\"La lista no es simetricca.\")\n",
    "\n",
    "if simetrica_2:\n",
    "    print(f\"La lista es simétrica y tiene {longitud_2} elementos.\")\n",
    "else:\n",
    "    print(\"La lista no es simétrica.\")\n"
   ]
  }
 ],
 "metadata": {
  "kernelspec": {
   "display_name": "Python 3 (ipykernel)",
   "language": "python",
   "name": "python3"
  },
  "language_info": {
   "codemirror_mode": {
    "name": "ipython",
    "version": 3
   },
   "file_extension": ".py",
   "mimetype": "text/x-python",
   "name": "python",
   "nbconvert_exporter": "python",
   "pygments_lexer": "ipython3",
   "version": "3.9.13"
  }
 },
 "nbformat": 4,
 "nbformat_minor": 5
}
